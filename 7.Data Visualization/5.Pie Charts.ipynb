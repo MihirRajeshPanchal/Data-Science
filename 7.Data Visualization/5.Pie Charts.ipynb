{
 "cells": [
  {
   "cell_type": "code",
   "execution_count": 110,
   "metadata": {},
   "outputs": [],
   "source": [
    "import matplotlib.pyplot as plt\n",
    "import pandas as pd\n",
    "import random as r"
   ]
  },
  {
   "cell_type": "code",
   "execution_count": 111,
   "metadata": {},
   "outputs": [
    {
     "data": {
      "text/html": [
       "<div>\n",
       "<style scoped>\n",
       "    .dataframe tbody tr th:only-of-type {\n",
       "        vertical-align: middle;\n",
       "    }\n",
       "\n",
       "    .dataframe tbody tr th {\n",
       "        vertical-align: top;\n",
       "    }\n",
       "\n",
       "    .dataframe thead th {\n",
       "        text-align: right;\n",
       "    }\n",
       "</style>\n",
       "<table border=\"1\" class=\"dataframe\">\n",
       "  <thead>\n",
       "    <tr style=\"text-align: right;\">\n",
       "      <th></th>\n",
       "      <th>0</th>\n",
       "      <th>1</th>\n",
       "      <th>2</th>\n",
       "      <th>3</th>\n",
       "      <th>4</th>\n",
       "      <th>5</th>\n",
       "      <th>6</th>\n",
       "      <th>7</th>\n",
       "      <th>8</th>\n",
       "      <th>9</th>\n",
       "    </tr>\n",
       "  </thead>\n",
       "  <tbody>\n",
       "    <tr>\n",
       "      <th>Numbers</th>\n",
       "      <td>8.000000</td>\n",
       "      <td>8.000000</td>\n",
       "      <td>1.000000</td>\n",
       "      <td>9.000000</td>\n",
       "      <td>2.000000</td>\n",
       "      <td>2.000000</td>\n",
       "      <td>4.000000</td>\n",
       "      <td>3.000000</td>\n",
       "      <td>5.000000</td>\n",
       "      <td>2.000000</td>\n",
       "    </tr>\n",
       "    <tr>\n",
       "      <th>Explode</th>\n",
       "      <td>0.776068</td>\n",
       "      <td>0.937638</td>\n",
       "      <td>0.073732</td>\n",
       "      <td>0.229813</td>\n",
       "      <td>0.964843</td>\n",
       "      <td>0.292986</td>\n",
       "      <td>0.488452</td>\n",
       "      <td>0.422676</td>\n",
       "      <td>0.187411</td>\n",
       "      <td>0.215656</td>\n",
       "    </tr>\n",
       "  </tbody>\n",
       "</table>\n",
       "</div>"
      ],
      "text/plain": [
       "                0         1         2         3         4         5         6  \\\n",
       "Numbers  8.000000  8.000000  1.000000  9.000000  2.000000  2.000000  4.000000   \n",
       "Explode  0.776068  0.937638  0.073732  0.229813  0.964843  0.292986  0.488452   \n",
       "\n",
       "                7         8         9  \n",
       "Numbers  3.000000  5.000000  2.000000  \n",
       "Explode  0.422676  0.187411  0.215656  "
      ]
     },
     "execution_count": 111,
     "metadata": {},
     "output_type": "execute_result"
    }
   ],
   "source": [
    "l2=[]\n",
    "explodelist=[]\n",
    "for i in range(1,11):\n",
    "    l2.append(r.randint(1,10))\n",
    "    explodelist.append(r.random())\n",
    "df=pd.DataFrame([l2,explodelist])\n",
    "df.set_axis([\"Numbers\",\"Explode\"])"
   ]
  },
  {
   "cell_type": "code",
   "execution_count": 112,
   "metadata": {},
   "outputs": [
    {
     "data": {
      "image/png": "[encoded data removed]",
      "text/plain": [
       "<Figure size 432x288 with 1 Axes>"
      ]
     },
     "metadata": {},
     "output_type": "display_data"
    }
   ],
   "source": [
    "x=plt.pie(l2,labels=l2,explode=explodelist)#colors="
   ]
  }
 ],
 "metadata": {
  "kernelspec": {
   "display_name": "Python 3.10.2 64-bit",
   "language": "python",
   "name": "python3"
  },
  "language_info": {
   "codemirror_mode": {
    "name": "ipython",
    "version": 3
   },
   "file_extension": ".py",
   "mimetype": "text/x-python",
   "name": "python",
   "nbconvert_exporter": "python",
   "pygments_lexer": "ipython3",
   "version": "3.10.2"
  },
  "orig_nbformat": 4,
  "vscode": {
   "interpreter": {
    "hash": "491b6ca66f832f7e3e9ce74c0e017c6cf457efa0690647c634c4879adba9515c"
   }
  }
 },
 "nbformat": 4,
 "nbformat_minor": 2
}
