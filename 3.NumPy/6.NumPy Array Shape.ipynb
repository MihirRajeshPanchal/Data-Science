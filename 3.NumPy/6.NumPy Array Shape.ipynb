{
 "cells": [
  {
   "cell_type": "code",
   "execution_count": 10,
   "metadata": {},
   "outputs": [],
   "source": [
    "import numpy as np"
   ]
  },
  {
   "cell_type": "code",
   "execution_count": 11,
   "metadata": {},
   "outputs": [],
   "source": [
    "l1=[i for i in range(1,11,3)]\n",
    "l2=[list([i,i+1,i+2]) for i in l1]\n",
    "l3=[i for i in range(11,21,3)]\n",
    "l4=[list([i,i+1,i+2]) for i in l3]\n",
    "l5=[l2]+[l4]"
   ]
  },
  {
   "cell_type": "code",
   "execution_count": 12,
   "metadata": {},
   "outputs": [],
   "source": [
    "oneDarray=np.array(l1)\n",
    "twoDarray=np.array(l2)\n",
    "threeDarray=np.array(l5)"
   ]
  },
  {
   "cell_type": "code",
   "execution_count": 13,
   "metadata": {},
   "outputs": [
    {
     "name": "stdout",
     "output_type": "stream",
     "text": [
      "One D Array :  [ 1  4  7 10]\n",
      "Two D Array :  [[ 1  2  3]\n",
      " [ 4  5  6]\n",
      " [ 7  8  9]\n",
      " [10 11 12]]\n",
      "Three D Array :  [[[ 1  2  3]\n",
      "  [ 4  5  6]\n",
      "  [ 7  8  9]\n",
      "  [10 11 12]]\n",
      "\n",
      " [[11 12 13]\n",
      "  [14 15 16]\n",
      "  [17 18 19]\n",
      "  [20 21 22]]]\n"
     ]
    }
   ],
   "source": [
    "print(\"One D Array : \",oneDarray)\n",
    "print(\"Two D Array : \",twoDarray)\n",
    "print(\"Three D Array : \",threeDarray)"
   ]
  },
  {
   "cell_type": "code",
   "execution_count": 14,
   "metadata": {},
   "outputs": [
    {
     "name": "stdout",
     "output_type": "stream",
     "text": [
      "(4,)\n",
      "(4, 3)\n",
      "(2, 4, 3)\n"
     ]
    }
   ],
   "source": [
    "print(oneDarray.shape)\n",
    "print(twoDarray.shape)\n",
    "print(threeDarray.shape)"
   ]
  }
 ],
 "metadata": {
  "kernelspec": {
   "display_name": "Python 3.10.2 64-bit",
   "language": "python",
   "name": "python3"
  },
  "language_info": {
   "codemirror_mode": {
    "name": "ipython",
    "version": 3
   },
   "file_extension": ".py",
   "mimetype": "text/x-python",
   "name": "python",
   "nbconvert_exporter": "python",
   "pygments_lexer": "ipython3",
   "version": "3.10.2"
  },
  "orig_nbformat": 4,
  "vscode": {
   "interpreter": {
    "hash": "491b6ca66f832f7e3e9ce74c0e017c6cf457efa0690647c634c4879adba9515c"
   }
  }
 },
 "nbformat": 4,
 "nbformat_minor": 2
}
