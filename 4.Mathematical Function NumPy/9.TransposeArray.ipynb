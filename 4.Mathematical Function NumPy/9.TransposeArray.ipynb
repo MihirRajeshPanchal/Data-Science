{
 "cells": [
  {
   "cell_type": "code",
   "execution_count": 15,
   "metadata": {},
   "outputs": [],
   "source": [
    "import numpy as np"
   ]
  },
  {
   "cell_type": "code",
   "execution_count": 16,
   "metadata": {},
   "outputs": [],
   "source": [
    "l1=[i for i in range(1,11,3)]\n",
    "l2=[list([i,i+1,i+2]) for i in l1]\n",
    "l3=[i for i in range(11,21,3)]\n",
    "l4=[list([i,i+1,i+2]) for i in l3]\n",
    "l5=[l2]+[l4]"
   ]
  },
  {
   "cell_type": "code",
   "execution_count": 17,
   "metadata": {},
   "outputs": [
    {
     "name": "stdout",
     "output_type": "stream",
     "text": [
      "[[[ 1  2  3]\n",
      "  [ 4  5  6]\n",
      "  [ 7  8  9]\n",
      "  [10 11 12]]\n",
      "\n",
      " [[11 12 13]\n",
      "  [14 15 16]\n",
      "  [17 18 19]\n",
      "  [20 21 22]]]\n"
     ]
    }
   ],
   "source": [
    "threeDarray=np.array(l5)\n",
    "print(threeDarray)"
   ]
  },
  {
   "cell_type": "code",
   "execution_count": 18,
   "metadata": {},
   "outputs": [
    {
     "name": "stdout",
     "output_type": "stream",
     "text": [
      "[[[ 1 11]\n",
      "  [ 4 14]\n",
      "  [ 7 17]\n",
      "  [10 20]]\n",
      "\n",
      " [[ 2 12]\n",
      "  [ 5 15]\n",
      "  [ 8 18]\n",
      "  [11 21]]\n",
      "\n",
      " [[ 3 13]\n",
      "  [ 6 16]\n",
      "  [ 9 19]\n",
      "  [12 22]]]\n"
     ]
    }
   ],
   "source": [
    "print(threeDarray.transpose())"
   ]
  },
  {
   "cell_type": "code",
   "execution_count": 19,
   "metadata": {},
   "outputs": [
    {
     "name": "stdout",
     "output_type": "stream",
     "text": [
      "[[[ 1 11]\n",
      "  [ 4 14]\n",
      "  [ 7 17]\n",
      "  [10 20]]\n",
      "\n",
      " [[ 2 12]\n",
      "  [ 5 15]\n",
      "  [ 8 18]\n",
      "  [11 21]]\n",
      "\n",
      " [[ 3 13]\n",
      "  [ 6 16]\n",
      "  [ 9 19]\n",
      "  [12 22]]]\n"
     ]
    }
   ],
   "source": [
    "print(threeDarray.T)"
   ]
  }
 ],
 "metadata": {
  "kernelspec": {
   "display_name": "Python 3.10.2 64-bit",
   "language": "python",
   "name": "python3"
  },
  "language_info": {
   "codemirror_mode": {
    "name": "ipython",
    "version": 3
   },
   "file_extension": ".py",
   "mimetype": "text/x-python",
   "name": "python",
   "nbconvert_exporter": "python",
   "pygments_lexer": "ipython3",
   "version": "3.10.2"
  },
  "orig_nbformat": 4,
  "vscode": {
   "interpreter": {
    "hash": "491b6ca66f832f7e3e9ce74c0e017c6cf457efa0690647c634c4879adba9515c"
   }
  }
 },
 "nbformat": 4,
 "nbformat_minor": 2
}
