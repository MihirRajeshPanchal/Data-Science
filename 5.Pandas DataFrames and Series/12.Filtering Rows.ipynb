{
 "cells": [
  {
   "cell_type": "code",
   "execution_count": 12,
   "metadata": {},
   "outputs": [],
   "source": [
    "import pandas as pd"
   ]
  },
  {
   "cell_type": "code",
   "execution_count": 13,
   "metadata": {},
   "outputs": [],
   "source": [
    "df=pd.read_csv(\"CSV/cereals.csv\")"
   ]
  },
  {
   "cell_type": "code",
   "execution_count": 14,
   "metadata": {},
   "outputs": [
    {
     "name": "stdout",
     "output_type": "stream",
     "text": [
      "                        name  calories  protein  vitamins     rating\n",
      "0                  100% Bran        70        4        25  68.402973\n",
      "1          100% Natural Bran       120        3         0  33.983679\n",
      "2                   All-Bran        70        4        25  59.425505\n",
      "3  All-Bran with Extra Fiber        50        4        25  93.704912\n",
      "4             Almond Delight       110        2        25  34.384843\n",
      "5    Apple Cinnamon Cheerios       110        2        25  29.509541\n",
      "6                Apple Jacks       110        2        25  33.174094\n",
      "7                    Basic 4       130        3        25  37.038562\n",
      "8                  Bran Chex        90        2        25  49.120253\n",
      "9                Bran Flakes        90        3        25  53.313813\n"
     ]
    }
   ],
   "source": [
    "print(df)"
   ]
  },
  {
   "cell_type": "code",
   "execution_count": 15,
   "metadata": {},
   "outputs": [
    {
     "name": "stdout",
     "output_type": "stream",
     "text": [
      "                      name  calories  protein  vitamins     rating\n",
      "1        100% Natural Bran       120        3         0  33.983679\n",
      "4           Almond Delight       110        2        25  34.384843\n",
      "5  Apple Cinnamon Cheerios       110        2        25  29.509541\n",
      "6              Apple Jacks       110        2        25  33.174094\n",
      "7                  Basic 4       130        3        25  37.038562\n",
      "8                Bran Chex        90        2        25  49.120253\n",
      "9              Bran Flakes        90        3        25  53.313813\n"
     ]
    }
   ],
   "source": [
    "condition=df[\"calories\"]>70\n",
    "print(df[condition])"
   ]
  }
 ],
 "metadata": {
  "kernelspec": {
   "display_name": "Python 3.10.2 64-bit",
   "language": "python",
   "name": "python3"
  },
  "language_info": {
   "codemirror_mode": {
    "name": "ipython",
    "version": 3
   },
   "file_extension": ".py",
   "mimetype": "text/x-python",
   "name": "python",
   "nbconvert_exporter": "python",
   "pygments_lexer": "ipython3",
   "version": "3.10.2"
  },
  "orig_nbformat": 4,
  "vscode": {
   "interpreter": {
    "hash": "491b6ca66f832f7e3e9ce74c0e017c6cf457efa0690647c634c4879adba9515c"
   }
  }
 },
 "nbformat": 4,
 "nbformat_minor": 2
}
